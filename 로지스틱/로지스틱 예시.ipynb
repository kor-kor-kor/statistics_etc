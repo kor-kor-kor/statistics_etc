{
 "cells": [
  {
   "cell_type": "code",
   "execution_count": 1,
   "id": "27a70038-f26f-4b1b-8a0f-0acd70b31fc6",
   "metadata": {},
   "outputs": [],
   "source": [
    "import pandas as pd\n",
    "import numpy as np\n",
    "from sklearn.model_selection import train_test_split\n",
    "from sklearn.preprocessing import LabelEncoder\n",
    "from sklearn.preprocessing import StandardScaler, MinMaxScaler, RobustScaler\n",
    "from sklearn.metrics import accuracy_score, f1_score, recall_score, precision_score, confusion_matrix\n",
    "import seaborn as sns\n",
    "import matplotlib.pyplot as plt\n",
    "from pycaret.classification import *\n",
    "from sklearn.model_selection import StratifiedKFold\n",
    "from datetime import datetime\n",
    "df = pd.read_csv('C:/Users/User/Downloads/Social_Network_Ads.csv')\n",
    "\n",
    "df['Gender'] = df['Gender'].map({'Male': 0, 'Female': 1})"
   ]
  },
  {
   "cell_type": "code",
   "execution_count": 3,
   "id": "ebfc1e3f-b0be-4144-aace-1e15c7b123d2",
   "metadata": {},
   "outputs": [
    {
     "data": {
      "text/html": [
       "<div>\n",
       "<style scoped>\n",
       "    .dataframe tbody tr th:only-of-type {\n",
       "        vertical-align: middle;\n",
       "    }\n",
       "\n",
       "    .dataframe tbody tr th {\n",
       "        vertical-align: top;\n",
       "    }\n",
       "\n",
       "    .dataframe thead th {\n",
       "        text-align: right;\n",
       "    }\n",
       "</style>\n",
       "<table border=\"1\" class=\"dataframe\">\n",
       "  <thead>\n",
       "    <tr style=\"text-align: right;\">\n",
       "      <th></th>\n",
       "      <th>Gender</th>\n",
       "      <th>Age</th>\n",
       "      <th>EstimatedSalary</th>\n",
       "      <th>Purchased</th>\n",
       "    </tr>\n",
       "  </thead>\n",
       "  <tbody>\n",
       "    <tr>\n",
       "      <th>0</th>\n",
       "      <td>0</td>\n",
       "      <td>19</td>\n",
       "      <td>19000</td>\n",
       "      <td>0</td>\n",
       "    </tr>\n",
       "    <tr>\n",
       "      <th>1</th>\n",
       "      <td>0</td>\n",
       "      <td>35</td>\n",
       "      <td>20000</td>\n",
       "      <td>0</td>\n",
       "    </tr>\n",
       "    <tr>\n",
       "      <th>2</th>\n",
       "      <td>1</td>\n",
       "      <td>26</td>\n",
       "      <td>43000</td>\n",
       "      <td>0</td>\n",
       "    </tr>\n",
       "    <tr>\n",
       "      <th>3</th>\n",
       "      <td>1</td>\n",
       "      <td>27</td>\n",
       "      <td>57000</td>\n",
       "      <td>0</td>\n",
       "    </tr>\n",
       "    <tr>\n",
       "      <th>4</th>\n",
       "      <td>0</td>\n",
       "      <td>19</td>\n",
       "      <td>76000</td>\n",
       "      <td>0</td>\n",
       "    </tr>\n",
       "    <tr>\n",
       "      <th>...</th>\n",
       "      <td>...</td>\n",
       "      <td>...</td>\n",
       "      <td>...</td>\n",
       "      <td>...</td>\n",
       "    </tr>\n",
       "    <tr>\n",
       "      <th>395</th>\n",
       "      <td>1</td>\n",
       "      <td>46</td>\n",
       "      <td>41000</td>\n",
       "      <td>1</td>\n",
       "    </tr>\n",
       "    <tr>\n",
       "      <th>396</th>\n",
       "      <td>0</td>\n",
       "      <td>51</td>\n",
       "      <td>23000</td>\n",
       "      <td>1</td>\n",
       "    </tr>\n",
       "    <tr>\n",
       "      <th>397</th>\n",
       "      <td>1</td>\n",
       "      <td>50</td>\n",
       "      <td>20000</td>\n",
       "      <td>1</td>\n",
       "    </tr>\n",
       "    <tr>\n",
       "      <th>398</th>\n",
       "      <td>0</td>\n",
       "      <td>36</td>\n",
       "      <td>33000</td>\n",
       "      <td>0</td>\n",
       "    </tr>\n",
       "    <tr>\n",
       "      <th>399</th>\n",
       "      <td>1</td>\n",
       "      <td>49</td>\n",
       "      <td>36000</td>\n",
       "      <td>1</td>\n",
       "    </tr>\n",
       "  </tbody>\n",
       "</table>\n",
       "<p>400 rows × 4 columns</p>\n",
       "</div>"
      ],
      "text/plain": [
       "     Gender  Age  EstimatedSalary  Purchased\n",
       "0         0   19            19000          0\n",
       "1         0   35            20000          0\n",
       "2         1   26            43000          0\n",
       "3         1   27            57000          0\n",
       "4         0   19            76000          0\n",
       "..      ...  ...              ...        ...\n",
       "395       1   46            41000          1\n",
       "396       0   51            23000          1\n",
       "397       1   50            20000          1\n",
       "398       0   36            33000          0\n",
       "399       1   49            36000          1\n",
       "\n",
       "[400 rows x 4 columns]"
      ]
     },
     "execution_count": 3,
     "metadata": {},
     "output_type": "execute_result"
    }
   ],
   "source": [
    "df"
   ]
  },
  {
   "cell_type": "code",
   "execution_count": 2,
   "id": "add007f0-6aff-4bfd-a484-287499cda745",
   "metadata": {},
   "outputs": [],
   "source": [
    "df = df.drop(['User ID'], axis=1)"
   ]
  },
  {
   "cell_type": "code",
   "execution_count": 4,
   "id": "1a2b3cc6-281d-4784-a975-8913578cdd17",
   "metadata": {},
   "outputs": [],
   "source": [
    "import statsmodels.api as sm "
   ]
  },
  {
   "cell_type": "code",
   "execution_count": 5,
   "id": "5fd47f4e-2196-49f0-94e8-98ddef637012",
   "metadata": {},
   "outputs": [
    {
     "name": "stdout",
     "output_type": "stream",
     "text": [
      "Optimization terminated successfully.\n",
      "         Current function value: 0.677546\n",
      "         Iterations 4\n"
     ]
    }
   ],
   "source": [
    "Xtrain = df.drop(['Purchased'], axis=1)\n",
    "ytrain = df[['Purchased']] \n",
    "   \n",
    "log_reg = sm.Logit(ytrain, Xtrain).fit() "
   ]
  },
  {
   "cell_type": "code",
   "execution_count": 6,
   "id": "9852eba0-1aa9-47d6-8413-6e7f7c3c61b1",
   "metadata": {},
   "outputs": [
    {
     "name": "stdout",
     "output_type": "stream",
     "text": [
      "                           Logit Regression Results                           \n",
      "==============================================================================\n",
      "Dep. Variable:              Purchased   No. Observations:                  400\n",
      "Model:                          Logit   Df Residuals:                      397\n",
      "Method:                           MLE   Df Model:                            2\n",
      "Date:                Wed, 05 Feb 2025   Pseudo R-squ.:                -0.03923\n",
      "Time:                        17:22:44   Log-Likelihood:                -271.02\n",
      "converged:                       True   LL-Null:                       -260.79\n",
      "Covariance Type:            nonrobust   LLR p-value:                     1.000\n",
      "===================================================================================\n",
      "                      coef    std err          z      P>|z|      [0.025      0.975]\n",
      "-----------------------------------------------------------------------------------\n",
      "Gender             -0.5371      0.201     -2.666      0.008      -0.932      -0.142\n",
      "Age                -0.0002      0.006     -0.035      0.972      -0.012       0.011\n",
      "EstimatedSalary  6.209e-07   2.82e-06      0.220      0.826   -4.91e-06    6.15e-06\n",
      "===================================================================================\n"
     ]
    }
   ],
   "source": [
    "print(log_reg.summary()) "
   ]
  },
  {
   "cell_type": "markdown",
   "id": "cfcff797-6f94-4f89-b1b2-cc31c04813e8",
   "metadata": {},
   "source": [
    "## Logit Regression Results 해석\n",
    "- Pseudo R-squared: -0.03923\n",
    "→ 현재 모델의 적합도와 모델의 설명력이 낮거나 개선이 필요함.\n",
    "\n",
    "- Age: p-value: 0.972, z 값: 약 0\n",
    "→ Age는 구매 여부에 통계적으로 유의한 영향을 미치지 않습니다.\n",
    "\n",
    "- EstimatedSalary: p-value: 0.826, z 값: 약 0\n",
    "→ EstimatedSalary 역시 구매 여부에 유의한 영향을 주지 않는 것으로 나타납니다.\n",
    "\n",
    "- Gender: 계수: -0.5371, p-value: 0.008, 변수 매핑: {'Male': 0, 'Female': 1}\n",
    "\n",
    "- 오즈비 계산:\n",
    "exp\n",
    "⁡\n",
    "(\n",
    "−\n",
    "0.5371\n",
    ")\n",
    "≈\n",
    "0.5844\n",
    "exp(−0.5371)≈0.5844\n",
    "\n",
    "- 해석:\n",
    "남성을 기준(reference)으로 했을 때, 여성이 구매할 오즈가 약 0.5844배입니다.\n",
    "이는 여성이 구매할 가능성이 남성보다 약 41.6% 낮음을 의미합니다\n",
    "(즉, \n",
    "1\n",
    "−\n",
    "0.5844\n",
    "≈\n",
    "0.4156\n",
    "1−0.5844≈0.4156)."
   ]
  },
  {
   "cell_type": "code",
   "execution_count": null,
   "id": "f1e3d92c-e774-43ea-a726-2a738a48534b",
   "metadata": {},
   "outputs": [],
   "source": []
  },
  {
   "cell_type": "code",
   "execution_count": null,
   "id": "b9bb1c23-2f2a-4432-ad25-c6d89790b965",
   "metadata": {},
   "outputs": [],
   "source": []
  }
 ],
 "metadata": {
  "kernelspec": {
   "display_name": "Python 3 (ipykernel)",
   "language": "python",
   "name": "python3"
  },
  "language_info": {
   "codemirror_mode": {
    "name": "ipython",
    "version": 3
   },
   "file_extension": ".py",
   "mimetype": "text/x-python",
   "name": "python",
   "nbconvert_exporter": "python",
   "pygments_lexer": "ipython3",
   "version": "3.11.9"
  }
 },
 "nbformat": 4,
 "nbformat_minor": 5
}
